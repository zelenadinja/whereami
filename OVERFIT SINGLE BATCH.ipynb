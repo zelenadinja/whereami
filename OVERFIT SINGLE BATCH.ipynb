{
 "cells": [
  {
   "cell_type": "code",
   "execution_count": 1,
   "id": "ef0e6832",
   "metadata": {},
   "outputs": [],
   "source": [
    "import os\n",
    "\n",
    "import torch\n",
    "from dotenv import load_dotenv\n",
    "import pandas as pd\n",
    "import torchmetrics\n",
    "\n",
    "from dataset.dataset import LandmarkDataset\n",
    "from dataset.augmentations import aug_version_1\n",
    "from models.networks import LandmarkResidual\n",
    "from src.utils import read_artifacts_s3, set_seed\n",
    "\n",
    "\n",
    "\n",
    "\n",
    "load_dotenv()\n",
    "args = read_artifacts_s3(object_key=os.environ.get(\"CONFIG_VERSION_0\"))\n",
    "set_seed(args[\"seed\"])\n",
    "df = pd.read_csv(args[\"df_path\"])\n",
    "train_dataset = LandmarkDataset(dataframe=df, transform=aug_version_1(args))\n",
    "trainloader = torch.utils.data.DataLoader(\n",
    "    train_dataset,\n",
    "    batch_size=32,\n",
    "    shuffle=True,\n",
    "    num_workers=0,\n",
    "    pin_memory=False,\n",
    ")"
   ]
  },
  {
   "cell_type": "code",
   "execution_count": 2,
   "id": "ca60c67f",
   "metadata": {},
   "outputs": [
    {
     "name": "stderr",
     "output_type": "stream",
     "text": [
      "Loading weights from S3: 100%|####################################| 102M/102M [00:09<00:00, 11.2MB/s]\n"
     ]
    }
   ],
   "source": [
    "net = LandmarkResidual(model='resnet50')\n",
    "net.to('cpu')\n",
    "optim = torch.optim.Adam(net.parameters(), lr=0.0003)\n",
    "criterion = torch.nn.CrossEntropyLoss()\n",
    "acc = torchmetrics.Accuracy().to('cpu')\n",
    "f1 = torchmetrics.F1Score(num_classes=495, average='weighted').to('cpu')"
   ]
  },
  {
   "cell_type": "code",
   "execution_count": 3,
   "id": "90ba55bc",
   "metadata": {},
   "outputs": [],
   "source": [
    "overfit_batch = next(iter(trainloader))"
   ]
  },
  {
   "cell_type": "code",
   "execution_count": 4,
   "id": "30c9c9b4",
   "metadata": {},
   "outputs": [
    {
     "name": "stdout",
     "output_type": "stream",
     "text": [
      "[1/50] loss:6.199275 acc:0.000000 f1:0.000000\n",
      "[2/50] loss:6.031512 acc:0.156250 f1:0.094792\n",
      "[3/50] loss:5.862623 acc:0.656250 f1:0.594345\n",
      "[4/50] loss:5.693649 acc:0.937500 f1:0.916667\n",
      "[5/50] loss:5.514441 acc:1.000000 f1:1.000000\n",
      "[6/50] loss:5.338186 acc:1.000000 f1:1.000000\n",
      "[7/50] loss:5.152004 acc:1.000000 f1:1.000000\n",
      "[8/50] loss:4.965442 acc:1.000000 f1:1.000000\n",
      "[9/50] loss:4.772569 acc:1.000000 f1:1.000000\n",
      "[10/50] loss:4.576386 acc:1.000000 f1:1.000000\n",
      "[11/50] loss:4.377149 acc:1.000000 f1:1.000000\n",
      "[12/50] loss:4.177557 acc:1.000000 f1:1.000000\n",
      "[13/50] loss:3.979196 acc:1.000000 f1:1.000000\n",
      "[14/50] loss:3.784426 acc:1.000000 f1:1.000000\n",
      "[15/50] loss:3.593911 acc:1.000000 f1:1.000000\n",
      "[16/50] loss:3.407115 acc:1.000000 f1:1.000000\n",
      "[17/50] loss:3.224083 acc:1.000000 f1:1.000000\n",
      "[18/50] loss:3.045442 acc:1.000000 f1:1.000000\n",
      "[19/50] loss:2.871886 acc:1.000000 f1:1.000000\n",
      "[20/50] loss:2.704116 acc:1.000000 f1:1.000000\n",
      "[21/50] loss:2.541639 acc:1.000000 f1:1.000000\n",
      "[22/50] loss:2.384249 acc:1.000000 f1:1.000000\n",
      "[23/50] loss:2.232090 acc:1.000000 f1:1.000000\n",
      "[24/50] loss:2.085409 acc:1.000000 f1:1.000000\n",
      "[25/50] loss:1.943535 acc:1.000000 f1:1.000000\n",
      "[26/50] loss:1.806040 acc:1.000000 f1:1.000000\n",
      "[27/50] loss:1.673210 acc:1.000000 f1:1.000000\n",
      "[28/50] loss:1.544477 acc:1.000000 f1:1.000000\n",
      "[29/50] loss:1.420105 acc:1.000000 f1:1.000000\n",
      "[30/50] loss:1.300586 acc:1.000000 f1:1.000000\n",
      "[31/50] loss:1.185617 acc:1.000000 f1:1.000000\n",
      "[32/50] loss:1.075752 acc:1.000000 f1:1.000000\n",
      "[33/50] loss:0.971437 acc:1.000000 f1:1.000000\n",
      "[34/50] loss:0.872803 acc:1.000000 f1:1.000000\n",
      "[35/50] loss:0.780261 acc:1.000000 f1:1.000000\n",
      "[36/50] loss:0.694214 acc:1.000000 f1:1.000000\n",
      "[37/50] loss:0.614811 acc:1.000000 f1:1.000000\n",
      "[38/50] loss:0.542364 acc:1.000000 f1:1.000000\n",
      "[39/50] loss:0.476621 acc:1.000000 f1:1.000000\n",
      "[40/50] loss:0.417535 acc:1.000000 f1:1.000000\n",
      "[41/50] loss:0.364866 acc:1.000000 f1:1.000000\n",
      "[42/50] loss:0.318215 acc:1.000000 f1:1.000000\n",
      "[43/50] loss:0.277302 acc:1.000000 f1:1.000000\n",
      "[44/50] loss:0.241693 acc:1.000000 f1:1.000000\n",
      "[45/50] loss:0.210928 acc:1.000000 f1:1.000000\n",
      "[46/50] loss:0.184434 acc:1.000000 f1:1.000000\n",
      "[47/50] loss:0.161718 acc:1.000000 f1:1.000000\n",
      "[48/50] loss:0.142293 acc:1.000000 f1:1.000000\n",
      "[49/50] loss:0.125681 acc:1.000000 f1:1.000000\n",
      "[50/50] loss:0.111466 acc:1.000000 f1:1.000000\n"
     ]
    }
   ],
   "source": [
    "for i in range(50):\n",
    "    images, labels = overfit_batch['images'], overfit_batch['labels']\n",
    "    images, labels = images.to('cpu'), labels.to('cpu')\n",
    "    net.zero_grad(set_to_none=True)\n",
    "    outputs = net(images)\n",
    "    _, preds = torch.max(outputs, dim=1)\n",
    "    batch_acc = acc(preds, labels)\n",
    "    batch_f1 = f1(preds, labels)\n",
    "    loss = criterion(outputs, labels)\n",
    "    loss.backward()\n",
    "    optim.step()\n",
    "    print(f\"[{i+1}/50] loss:{loss:.6f} acc:{batch_acc:.6f} f1:{batch_f1:.6f}\")"
   ]
  },
  {
   "cell_type": "code",
   "execution_count": null,
   "id": "8f5a89de",
   "metadata": {},
   "outputs": [],
   "source": []
  }
 ],
 "metadata": {
  "kernelspec": {
   "display_name": "Python [conda env:landmark]",
   "language": "python",
   "name": "conda-env-landmark-py"
  },
  "language_info": {
   "codemirror_mode": {
    "name": "ipython",
    "version": 3
   },
   "file_extension": ".py",
   "mimetype": "text/x-python",
   "name": "python",
   "nbconvert_exporter": "python",
   "pygments_lexer": "ipython3",
   "version": "3.9.7"
  }
 },
 "nbformat": 4,
 "nbformat_minor": 5
}
